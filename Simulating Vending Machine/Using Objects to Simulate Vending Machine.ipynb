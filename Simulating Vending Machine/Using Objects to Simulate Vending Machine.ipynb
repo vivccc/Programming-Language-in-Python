{
 "cells": [
  {
   "cell_type": "markdown",
   "metadata": {},
   "source": [
    "### Class venditem: represents a type of item for sale"
   ]
  },
  {
   "cell_type": "code",
   "execution_count": 6,
   "metadata": {
    "collapsed": true
   },
   "outputs": [],
   "source": [
    "class venditem:\n",
    "    # load data into the instance variables\n",
    "    def __init__(self, name, price, quantity):\n",
    "        self.name = name\n",
    "        # price in cents\n",
    "        self.price = price\n",
    "        # number of these items in the machine\n",
    "        # must be decremented when an item is sold\n",
    "        self.quantity = quantity\n",
    "        \n",
    "    # control how venditem prints\n",
    "    def __repr__(self):\n",
    "        return \"venditem(name='{}', price={}, quantity={})\" \\\n",
    "        .format(self.name, self.price, self.quantity)\n",
    "        \n",
    "    # return\n",
    "    def __str__(self):\n",
    "        return self.__repr__()\n",
    "    \n",
    "    # decrement the quantity\n",
    "    def sale(self):\n",
    "        self.quantity += -1\n",
    "        return self.quantity"
   ]
  },
  {
   "cell_type": "markdown",
   "metadata": {},
   "source": [
    "### Class vendmachine: \n",
    "- Vendmachine has two instance variables:\n",
    "\n",
    "    - 'cash' - the amount of money the machine has collected from item sales (in cents)\n",
    "\n",
    "    - 'items' - a dictionary, where keys are the name of an item, and the values are the venditem object"
   ]
  },
  {
   "cell_type": "code",
   "execution_count": 4,
   "metadata": {
    "collapsed": true
   },
   "outputs": [],
   "source": [
    "import time\n",
    "    \n",
    "def log(msg, name):\n",
    "    t = time.strftime('%X %x %Z - ')\n",
    "    msg = t + msg + ': ' + name\n",
    "    print(msg)"
   ]
  },
  {
   "cell_type": "code",
   "execution_count": 5,
   "metadata": {
    "collapsed": true
   },
   "outputs": [],
   "source": [
    "class vendmachine:\n",
    "    \n",
    "    def __init__(self, stock):\n",
    "        self.cash = 0\n",
    "        # make a dict\n",
    "        self.items = dict()\n",
    "        for i in stock:\n",
    "            self.items[i.name] = i\n",
    "\n",
    "    def buy(self, name, money):        \n",
    "        if not name in self.items:\n",
    "            log('dont carry it', name)\n",
    "            return money\n",
    "        \n",
    "        item = self.items[name]\n",
    "        if item.quantity == 0:\n",
    "            log('out of stock', name)\n",
    "            return money\n",
    "        \n",
    "        if money < item.price:\n",
    "            log('insufficient funds for', name)\n",
    "            return money\n",
    "\n",
    "        log('sold ', item.name)\n",
    "        item.sale()\n",
    "        self.cash += item.price\n",
    "        return money - item.price\n",
    "    \n",
    "    def status(self):\n",
    "        print('cash collected: {}'.format(self.cash))\n",
    "        for k in self.items:\n",
    "            print(self.items[k])"
   ]
  },
  {
   "cell_type": "markdown",
   "metadata": {},
   "source": [
    "### Test"
   ]
  },
  {
   "cell_type": "code",
   "execution_count": 7,
   "metadata": {},
   "outputs": [
    {
     "name": "stdout",
     "output_type": "stream",
     "text": [
      "cash collected: 0\n",
      "venditem(name='coke', price=95, quantity=3)\n",
      "venditem(name='pepsi', price=110, quantity=1)\n",
      "venditem(name='peanut M&Ms', price=100, quantity=2)\n"
     ]
    }
   ],
   "source": [
    "# make stock for sale and load vendmachine\n",
    "\n",
    "vi = venditem('coke', 95, 3)\n",
    "vi2 = venditem('pepsi', 110, 1)\n",
    "vi3 = venditem('peanut M&Ms', 100, 2)\n",
    "stock = [vi, vi2, vi3]\n",
    "\n",
    "vm = vendmachine(stock)\n",
    "vm.status()"
   ]
  },
  {
   "cell_type": "code",
   "execution_count": 8,
   "metadata": {},
   "outputs": [
    {
     "name": "stdout",
     "output_type": "stream",
     "text": [
      "18:34:15 11/03/17 EDT - sold : pepsi\n"
     ]
    },
    {
     "data": {
      "text/plain": [
       "90"
      ]
     },
     "execution_count": 8,
     "metadata": {},
     "output_type": "execute_result"
    }
   ],
   "source": [
    "vm.buy('pepsi', 200)"
   ]
  },
  {
   "cell_type": "code",
   "execution_count": 9,
   "metadata": {},
   "outputs": [
    {
     "name": "stdout",
     "output_type": "stream",
     "text": [
      "cash collected: 110\n",
      "venditem(name='coke', price=95, quantity=3)\n",
      "venditem(name='pepsi', price=110, quantity=0)\n",
      "venditem(name='peanut M&Ms', price=100, quantity=2)\n"
     ]
    }
   ],
   "source": [
    "vm.status()"
   ]
  },
  {
   "cell_type": "code",
   "execution_count": 11,
   "metadata": {},
   "outputs": [
    {
     "name": "stdout",
     "output_type": "stream",
     "text": [
      "18:34:42 11/03/17 EDT - out of stock: pepsi\n",
      "18:34:42 11/03/17 EDT - dont carry it: mtndew\n",
      "18:34:42 11/03/17 EDT - sold : coke\n"
     ]
    },
    {
     "data": {
      "text/plain": [
       "5"
      ]
     },
     "execution_count": 11,
     "metadata": {},
     "output_type": "execute_result"
    }
   ],
   "source": [
    "vm.buy('pepsi', 200)\n",
    "vm.buy('mtndew', 200)\n",
    "vm.buy('coke', 100)"
   ]
  },
  {
   "cell_type": "code",
   "execution_count": 12,
   "metadata": {},
   "outputs": [
    {
     "name": "stdout",
     "output_type": "stream",
     "text": [
      "cash collected: 205\n",
      "venditem(name='coke', price=95, quantity=2)\n",
      "venditem(name='pepsi', price=110, quantity=0)\n",
      "venditem(name='peanut M&Ms', price=100, quantity=2)\n"
     ]
    }
   ],
   "source": [
    "vm.status()"
   ]
  },
  {
   "cell_type": "code",
   "execution_count": null,
   "metadata": {
    "collapsed": true
   },
   "outputs": [],
   "source": []
  }
 ],
 "metadata": {
  "kernelspec": {
   "display_name": "Python 3",
   "language": "python",
   "name": "python3"
  },
  "language_info": {
   "codemirror_mode": {
    "name": "ipython",
    "version": 3
   },
   "file_extension": ".py",
   "mimetype": "text/x-python",
   "name": "python",
   "nbconvert_exporter": "python",
   "pygments_lexer": "ipython3",
   "version": "3.6.1"
  }
 },
 "nbformat": 4,
 "nbformat_minor": 2
}
